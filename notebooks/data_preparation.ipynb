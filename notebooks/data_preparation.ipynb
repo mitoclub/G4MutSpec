{
 "cells": [
  {
   "cell_type": "code",
   "execution_count": 1,
   "id": "b299f0c5-23a6-4609-9f91-c65d0994bed3",
   "metadata": {},
   "outputs": [],
   "source": [
    "import pandas as pd\n",
    "import numpy as np\n",
    "from collections import Counter\n",
    "import re\n",
    "\n",
    "import matplotlib.pyplot as plt\n",
    "import seaborn as sns\n",
    "from matplotlib.ticker import MaxNLocator\n",
    "\n",
    "%matplotlib inline"
   ]
  },
  {
   "cell_type": "code",
   "execution_count": 2,
   "id": "bc4ad765-e905-4d20-b63c-202f99990d7f",
   "metadata": {},
   "outputs": [],
   "source": [
    "# reference:\n",
    "ref_annot = pd.read_csv('../data/raw/ref_annot.csv')"
   ]
  },
  {
   "cell_type": "code",
   "execution_count": 3,
   "id": "00b3cbf7-9d10-427d-b534-c343a37a267c",
   "metadata": {},
   "outputs": [],
   "source": [
    "REGION_SIZE = 50"
   ]
  },
  {
   "cell_type": "code",
   "execution_count": 4,
   "id": "5bc1a977-0763-4a16-b3c3-d3a4ff789e28",
   "metadata": {},
   "outputs": [],
   "source": [
    "WINDOW_SIZE = 10"
   ]
  },
  {
   "cell_type": "markdown",
   "id": "2a873713-15a1-4f9e-a418-b4cc5d493e62",
   "metadata": {},
   "source": [
    "# Data preparation \n",
    "## Step 1\n",
    "- auto-annotate G4 by G4Hunter (https://bioinformatics.cruk.cam.ac.uk/G4Hunter/)  \n",
    "- *verificate auto-annotate G4 in human RefSeq using data from africa paper and exel*  \n",
    "\n",
    "Dataset from paper [DOI:10.1093/nar/gkw006](DOI:10.1093/nar/gkw006) (G4Hunter and *in vitro* checking G4)"
   ]
  },
  {
   "cell_type": "code",
   "execution_count": 5,
   "id": "db421e06-a623-44fa-b428-05fdbe10799c",
   "metadata": {},
   "outputs": [
    {
     "name": "stderr",
     "output_type": "stream",
     "text": [
      "C:\\Users\\777\\anaconda3\\lib\\site-packages\\openpyxl\\worksheet\\_read_only.py:79: UserWarning: Conditional Formatting extension is not supported and will be removed\n",
      "  for idx, row in parser.parse():\n",
      "C:\\Users\\777\\anaconda3\\lib\\site-packages\\openpyxl\\worksheet\\_read_only.py:79: UserWarning: Unknown extension is not supported and will be removed\n",
      "  for idx, row in parser.parse():\n"
     ]
    }
   ],
   "source": [
    "datasetG4 = pd.read_excel(\"../data/raw/SupplementaryTableS2.xlsx\")"
   ]
  },
  {
   "cell_type": "code",
   "execution_count": 6,
   "id": "53e0a8a8-7591-4154-8312-7642e4063652",
   "metadata": {},
   "outputs": [],
   "source": [
    "africaG4 = datasetG4[datasetG4['Type'] != 'notG4'][['seqnames','start','end', 'width', 'strand', 'seq', 'G4Hscore', 'Type']]"
   ]
  },
  {
   "cell_type": "code",
   "execution_count": 7,
   "id": "53468540-2d03-46a3-affa-21fa082ef1ee",
   "metadata": {},
   "outputs": [],
   "source": [
    "# africaG4.to_excel('data/processed/africaG4.xlsx')"
   ]
  },
  {
   "cell_type": "code",
   "execution_count": 8,
   "id": "8d9ec877-2751-48b6-b770-e697bbfa0dda",
   "metadata": {},
   "outputs": [],
   "source": [
    "refG4 = pd.read_table('../data/raw/NC_012920.1 Homo sapiens mitochondrion, complete genome_DNA_hl=1_k=25_G4Hseeked_2023-09-22.txt')"
   ]
  },
  {
   "cell_type": "code",
   "execution_count": 9,
   "id": "235ce597-bb87-4274-b451-8954b8fc6ae1",
   "metadata": {},
   "outputs": [],
   "source": [
    "# refG4.to_excel('data/processed/refG4.xlsx')"
   ]
  },
  {
   "cell_type": "markdown",
   "id": "1348a1f9-3117-4868-9e94-fa00fffa65bd",
   "metadata": {},
   "source": [
    "## Manually fill in the data  \n",
    "Compare two datasets africaG4, refG4  \n",
    "If G4 present in both datasets put **1** in column *confirm*"
   ]
  },
  {
   "cell_type": "markdown",
   "id": "8e30ab88-66fe-42d4-9782-203264d269f6",
   "metadata": {},
   "source": [
    "## Step 2\n",
    "### Interval size analysis  "
   ]
  },
  {
   "cell_type": "code",
   "execution_count": 10,
   "id": "f30b178d-e771-4e53-8fa9-c3e8ee52f1c1",
   "metadata": {},
   "outputs": [],
   "source": [
    "refG4 = pd.read_excel('../data/processed/refG4.xlsx')"
   ]
  },
  {
   "cell_type": "code",
   "execution_count": 11,
   "id": "571255a8-f1b3-42d2-acff-528e9d0f97b8",
   "metadata": {},
   "outputs": [],
   "source": [
    "g4conf = refG4[refG4['confirmed'] == 1]"
   ]
  },
  {
   "cell_type": "code",
   "execution_count": 12,
   "id": "be8770a4-3c3b-4834-8d00-cb2f4b34f2a8",
   "metadata": {},
   "outputs": [],
   "source": [
    "bp_untill_next_G4 = g4conf['start'].drop(1).values - g4conf['end'].drop(93).values\n",
    "bp_untill_next_G4 = bp_untill_next_G4.tolist()\n",
    "bp_untill_next_G4.append(294)  #294 bp between last G4 and first G4"
   ]
  },
  {
   "cell_type": "code",
   "execution_count": 13,
   "id": "67a246ea-61b1-40d7-9704-a4f6257f473d",
   "metadata": {},
   "outputs": [],
   "source": [
    "bp_untill_previous_G4 = g4conf['start'].drop(1).values - g4conf['end'].drop(93).values\n",
    "bp_untill_previous_G4 = bp_untill_previous_G4.tolist()\n",
    "bp_untill_previous_G4.insert(0, 294)"
   ]
  },
  {
   "cell_type": "code",
   "execution_count": 14,
   "id": "182926c9-5d1e-4ab0-97af-fb4c1bb0a1f2",
   "metadata": {},
   "outputs": [
    {
     "name": "stderr",
     "output_type": "stream",
     "text": [
      "C:\\Users\\777\\AppData\\Local\\Temp\\ipykernel_11760\\2987571035.py:1: SettingWithCopyWarning: \n",
      "A value is trying to be set on a copy of a slice from a DataFrame.\n",
      "Try using .loc[row_indexer,col_indexer] = value instead\n",
      "\n",
      "See the caveats in the documentation: https://pandas.pydata.org/pandas-docs/stable/user_guide/indexing.html#returning-a-view-versus-a-copy\n",
      "  g4conf['bp_untill_next_G4'] = bp_untill_next_G4\n",
      "C:\\Users\\777\\AppData\\Local\\Temp\\ipykernel_11760\\2987571035.py:2: SettingWithCopyWarning: \n",
      "A value is trying to be set on a copy of a slice from a DataFrame.\n",
      "Try using .loc[row_indexer,col_indexer] = value instead\n",
      "\n",
      "See the caveats in the documentation: https://pandas.pydata.org/pandas-docs/stable/user_guide/indexing.html#returning-a-view-versus-a-copy\n",
      "  g4conf['bp_untill_previous_G4'] = bp_untill_previous_G4\n"
     ]
    }
   ],
   "source": [
    "g4conf['bp_untill_next_G4'] = bp_untill_next_G4\n",
    "g4conf['bp_untill_previous_G4'] = bp_untill_previous_G4"
   ]
  },
  {
   "cell_type": "markdown",
   "id": "7069d949-437e-49c7-93b9-21f42b9cb1e0",
   "metadata": {},
   "source": [
    "Adding G4_id for each confirmed G4:"
   ]
  },
  {
   "cell_type": "code",
   "execution_count": 15,
   "id": "32a06658-7101-495b-80fd-bf01390b77d3",
   "metadata": {},
   "outputs": [
    {
     "name": "stderr",
     "output_type": "stream",
     "text": [
      "C:\\Users\\777\\AppData\\Local\\Temp\\ipykernel_11760\\169449425.py:1: SettingWithCopyWarning: \n",
      "A value is trying to be set on a copy of a slice from a DataFrame.\n",
      "Try using .loc[row_indexer,col_indexer] = value instead\n",
      "\n",
      "See the caveats in the documentation: https://pandas.pydata.org/pandas-docs/stable/user_guide/indexing.html#returning-a-view-versus-a-copy\n",
      "  g4conf['G4_id'] = [*range(1,g4conf.shape[0]+1)]\n"
     ]
    }
   ],
   "source": [
    "g4conf['G4_id'] = [*range(1,g4conf.shape[0]+1)]"
   ]
  },
  {
   "cell_type": "code",
   "execution_count": 16,
   "id": "dedd0502-3fe2-496c-834f-ffa3291810a5",
   "metadata": {},
   "outputs": [
    {
     "name": "stderr",
     "output_type": "stream",
     "text": [
      "C:\\Users\\777\\AppData\\Local\\Temp\\ipykernel_11760\\2099197523.py:1: SettingWithCopyWarning: \n",
      "A value is trying to be set on a copy of a slice from a DataFrame.\n",
      "Try using .loc[row_indexer,col_indexer] = value instead\n",
      "\n",
      "See the caveats in the documentation: https://pandas.pydata.org/pandas-docs/stable/user_guide/indexing.html#returning-a-view-versus-a-copy\n",
      "  g4conf['up_win'] = pd.concat([g4conf[g4conf['bp_untill_previous_G4'] <= 100][['bp_untill_previous_G4', 'start']].diff(axis=1)['start'],\\\n"
     ]
    }
   ],
   "source": [
    "g4conf['up_win'] = pd.concat([g4conf[g4conf['bp_untill_previous_G4'] <= 100][['bp_untill_previous_G4', 'start']].diff(axis=1)['start'],\\\n",
    "                                 g4conf[g4conf['bp_untill_previous_G4'] > 100]['start']-100])"
   ]
  },
  {
   "cell_type": "code",
   "execution_count": 17,
   "id": "2524fb81-f61b-4cc7-bd31-790d2ea3b6d6",
   "metadata": {},
   "outputs": [
    {
     "name": "stderr",
     "output_type": "stream",
     "text": [
      "C:\\Users\\777\\AppData\\Local\\Temp\\ipykernel_11760\\461284617.py:1: SettingWithCopyWarning: \n",
      "A value is trying to be set on a copy of a slice from a DataFrame.\n",
      "Try using .loc[row_indexer,col_indexer] = value instead\n",
      "\n",
      "See the caveats in the documentation: https://pandas.pydata.org/pandas-docs/stable/user_guide/indexing.html#returning-a-view-versus-a-copy\n",
      "  g4conf['down_win'] = pd.concat([g4conf[g4conf['bp_untill_next_G4'] <= 100][['end', 'bp_untill_next_G4']].sum(axis=1), \\\n"
     ]
    }
   ],
   "source": [
    "g4conf['down_win'] = pd.concat([g4conf[g4conf['bp_untill_next_G4'] <= 100][['end', 'bp_untill_next_G4']].sum(axis=1), \\\n",
    "                               g4conf[g4conf['bp_untill_next_G4'] > 100]['end']+100])"
   ]
  },
  {
   "cell_type": "code",
   "execution_count": 18,
   "id": "dbe53171-6128-4cfb-b51b-dc2249d1c18d",
   "metadata": {},
   "outputs": [],
   "source": [
    "# g4conf.to_csv('../data/processed/g4conf.csv', index=False)"
   ]
  },
  {
   "cell_type": "markdown",
   "id": "154b760d-666f-4ff7-be60-c93ff4d7513d",
   "metadata": {},
   "source": [
    "## Step 2  \n",
    "### New interval size:\n",
    "- Take all confirmed G4   \n",
    "- **Dont sort G4 by size between G4 >= 50 bp**  \n",
    "- Obtain different interval size (0-100bp) between G4  "
   ]
  },
  {
   "cell_type": "code",
   "execution_count": 19,
   "id": "e084d609-6f9e-4e99-9514-354e2f751a31",
   "metadata": {},
   "outputs": [],
   "source": [
    "# G4_id = 38 hasnt downstream windows\n",
    "# G4_id = 39 hasnt upsteram windows"
   ]
  },
  {
   "cell_type": "code",
   "execution_count": 20,
   "id": "d3c32786-4097-4917-bc67-17455f8e7e47",
   "metadata": {},
   "outputs": [
    {
     "data": {
      "text/html": [
       "<div>\n",
       "<style scoped>\n",
       "    .dataframe tbody tr th:only-of-type {\n",
       "        vertical-align: middle;\n",
       "    }\n",
       "\n",
       "    .dataframe tbody tr th {\n",
       "        vertical-align: top;\n",
       "    }\n",
       "\n",
       "    .dataframe thead th {\n",
       "        text-align: right;\n",
       "    }\n",
       "</style>\n",
       "<table border=\"1\" class=\"dataframe\">\n",
       "  <thead>\n",
       "    <tr style=\"text-align: right;\">\n",
       "      <th></th>\n",
       "      <th>seqnames</th>\n",
       "      <th>start</th>\n",
       "      <th>end</th>\n",
       "      <th>width</th>\n",
       "      <th>strand</th>\n",
       "      <th>score</th>\n",
       "      <th>max_score</th>\n",
       "      <th>threshold</th>\n",
       "      <th>window</th>\n",
       "      <th>sequence</th>\n",
       "      <th>confirmed</th>\n",
       "      <th>G4</th>\n",
       "      <th>note</th>\n",
       "      <th>start-100bp</th>\n",
       "      <th>end+100bp</th>\n",
       "      <th>bp_untill_next_G4</th>\n",
       "      <th>bp_untill_previous_G4</th>\n",
       "      <th>G4_id</th>\n",
       "      <th>up_win</th>\n",
       "      <th>down_win</th>\n",
       "    </tr>\n",
       "  </thead>\n",
       "  <tbody>\n",
       "    <tr>\n",
       "      <th>52</th>\n",
       "      <td>NC_012920.1 Homo sapiens mitochondrion, comple...</td>\n",
       "      <td>9243</td>\n",
       "      <td>9262</td>\n",
       "      <td>20</td>\n",
       "      <td>-</td>\n",
       "      <td>-1.65</td>\n",
       "      <td>-1.32</td>\n",
       "      <td>1</td>\n",
       "      <td>25</td>\n",
       "      <td>CCCAGCCCATGACCCCTAAC</td>\n",
       "      <td>1</td>\n",
       "      <td>UG4</td>\n",
       "      <td>less than africa</td>\n",
       "      <td>9143</td>\n",
       "      <td>9362</td>\n",
       "      <td>6</td>\n",
       "      <td>285</td>\n",
       "      <td>38</td>\n",
       "      <td>9143</td>\n",
       "      <td>9268</td>\n",
       "    </tr>\n",
       "    <tr>\n",
       "      <th>53</th>\n",
       "      <td>NC_012920.1 Homo sapiens mitochondrion, comple...</td>\n",
       "      <td>9268</td>\n",
       "      <td>9293</td>\n",
       "      <td>26</td>\n",
       "      <td>-</td>\n",
       "      <td>-1.15</td>\n",
       "      <td>-1.12</td>\n",
       "      <td>1</td>\n",
       "      <td>25</td>\n",
       "      <td>CCCTCTCAGCCCTCCTAATGACCTCC</td>\n",
       "      <td>1</td>\n",
       "      <td>UG4</td>\n",
       "      <td>NaN</td>\n",
       "      <td>9168</td>\n",
       "      <td>9393</td>\n",
       "      <td>212</td>\n",
       "      <td>6</td>\n",
       "      <td>39</td>\n",
       "      <td>9262</td>\n",
       "      <td>9393</td>\n",
       "    </tr>\n",
       "  </tbody>\n",
       "</table>\n",
       "</div>"
      ],
      "text/plain": [
       "                                             seqnames  start   end  width  \\\n",
       "52  NC_012920.1 Homo sapiens mitochondrion, comple...   9243  9262     20   \n",
       "53  NC_012920.1 Homo sapiens mitochondrion, comple...   9268  9293     26   \n",
       "\n",
       "   strand  score  max_score  threshold  window                    sequence  \\\n",
       "52      -  -1.65      -1.32          1      25        CCCAGCCCATGACCCCTAAC   \n",
       "53      -  -1.15      -1.12          1      25  CCCTCTCAGCCCTCCTAATGACCTCC   \n",
       "\n",
       "    confirmed   G4              note  start-100bp  end+100bp  \\\n",
       "52          1  UG4  less than africa         9143       9362   \n",
       "53          1  UG4               NaN         9168       9393   \n",
       "\n",
       "    bp_untill_next_G4  bp_untill_previous_G4  G4_id  up_win  down_win  \n",
       "52                  6                    285     38    9143      9268  \n",
       "53                212                      6     39    9262      9393  "
      ]
     },
     "execution_count": 20,
     "metadata": {},
     "output_type": "execute_result"
    }
   ],
   "source": [
    "g4conf[(g4conf['G4_id'] == 38) | (g4conf['G4_id'] == 39)]"
   ]
  },
  {
   "cell_type": "code",
   "execution_count": 21,
   "id": "b0c66085-6236-45a3-be2c-8cda68f4f618",
   "metadata": {},
   "outputs": [],
   "source": [
    "data_up = []\n",
    "\n",
    "for up_win, start, G4_id in zip(g4conf['up_win'], g4conf['start'], g4conf['G4_id']):\n",
    "    \n",
    "    count_window = start - up_win - WINDOW_SIZE + 1  # count window in upstream interval (before G4)\n",
    "    number_of_win = count_window + 1                 # reverse counting of windows; the closer to G4, the smaller the number\n",
    "    \n",
    "    for i in range(up_win, start):\n",
    "        row = []\n",
    "        \n",
    "        if i+WINDOW_SIZE <= start:\n",
    "            window = [*range(i, i + WINDOW_SIZE)]\n",
    "        else:\n",
    "            break\n",
    "#         print(i, window)    \n",
    "        window_seq = ''\n",
    "        for pos in window:\n",
    "            if pos != 3107:\n",
    "                window_seq += str(ref_annot[ref_annot['Pos'] == pos].Nuc.values[0])\n",
    "            else:\n",
    "                window_seq += ''\n",
    "#         print(pos, window_seq)\n",
    "\n",
    "#       ref_annot[ref_annot['Pos'].isin(window)].Nuc.value_counts()\n",
    "        \n",
    "        number_of_win -= 1\n",
    "        \n",
    "        row.append(G4_id)\n",
    "        row.append('up')\n",
    "        row.append(number_of_win)\n",
    "        row.append(window[0])\n",
    "        row.append(window[-1])\n",
    "        row.append(window_seq)\n",
    "        \n",
    "        data_up.append(row)\n",
    "# print(data_up)"
   ]
  },
  {
   "cell_type": "code",
   "execution_count": 22,
   "id": "1f4775d4-f58a-4e6b-b4c2-02525afcb545",
   "metadata": {},
   "outputs": [],
   "source": [
    "data_down = []\n",
    "\n",
    "for end, down_win, G4_id in zip(g4conf['end'], g4conf['down_win'], g4conf['G4_id']):\n",
    "    \n",
    "    number_of_win = 0\n",
    "    \n",
    "    for i in range(end, down_win):\n",
    "        row = []\n",
    "        \n",
    "        if i >= g4conf['end'].iloc[-1] | i <= ref_annot['Pos'].iloc[-1]:\n",
    "            window = [*range(i, ref_annot['Pos'].iloc[-1]+1)]\n",
    "            remain = WINDOW_SIZE - (ref_annot['Pos'].iloc[-1] - i)\n",
    "            window += [*range(ref_annot['Pos'].iloc[0], remain)]\n",
    "        \n",
    "        elif i > ref_annot['Pos'].iloc[-1] and i <= down_win - WINDOW_SIZE :\n",
    "            i = i - ref_annot['Pos'].iloc[-1]\n",
    "            window = [*range(i, i + WINDOW_SIZE)]\n",
    "        \n",
    "        elif i+WINDOW_SIZE < down_win:\n",
    "            window = [*range(i, i + WINDOW_SIZE)]\n",
    "               \n",
    "        else:\n",
    "            break\n",
    "            \n",
    "        window_seq = ''\n",
    "        for pos in window:\n",
    "            window_seq += ref_annot[ref_annot['Pos'] == pos].Nuc.values[0]\n",
    "#         print(window[0], window_seq)\n",
    "\n",
    "#     ref_annot[ref_annot['Pos'].isin(window)].Nuc.value_counts()\n",
    "\n",
    "        number_of_win += 1\n",
    "\n",
    "        row.append(G4_id)\n",
    "        row.append('down')\n",
    "        row.append(number_of_win)\n",
    "        row.append(window[0])\n",
    "        row.append(window[-1])\n",
    "        row.append(window_seq)\n",
    "        \n",
    "        data_down.append(row)\n",
    "# print(data_down)"
   ]
  },
  {
   "cell_type": "code",
   "execution_count": 23,
   "id": "4790d0b7-9a65-4703-b99b-b7f5544182bc",
   "metadata": {},
   "outputs": [],
   "source": [
    "data = data_up + data_down"
   ]
  },
  {
   "cell_type": "code",
   "execution_count": 24,
   "id": "56d20465-de48-480a-8fb5-b7e3ed3fed00",
   "metadata": {},
   "outputs": [],
   "source": [
    "df_win = pd.DataFrame(data=data, columns = ['G4_id', 'side', 'number_of_win', 'window_start', 'window_end', 'sequence'])"
   ]
  },
  {
   "cell_type": "code",
   "execution_count": 25,
   "id": "7920c25f-e851-4809-bc3a-89a89c2a892e",
   "metadata": {},
   "outputs": [],
   "source": [
    "nuc_count_win = df_win['sequence'].apply(lambda x: Counter(x))"
   ]
  },
  {
   "cell_type": "code",
   "execution_count": 26,
   "id": "1b8de43a-731b-4dd8-9301-3f73e0dfa435",
   "metadata": {},
   "outputs": [],
   "source": [
    "nuc_count_df_win = pd.DataFrame.from_records(nuc_count_win).sort_index(axis=1)"
   ]
  },
  {
   "cell_type": "code",
   "execution_count": 27,
   "id": "679287e2-7c73-4f2e-9c20-e6c2f6f2b110",
   "metadata": {},
   "outputs": [],
   "source": [
    "df_win = df_win.join(nuc_count_df_win).fillna(0)"
   ]
  },
  {
   "cell_type": "markdown",
   "id": "59f23ba2-3fa3-4d61-81f3-64c7d7e0ed3b",
   "metadata": {},
   "source": [
    "### Finished dataset with nucleotide frequencies in ref_seq windows "
   ]
  },
  {
   "cell_type": "code",
   "execution_count": 28,
   "id": "b5b63c49-b04d-42f0-803f-16598e995f44",
   "metadata": {},
   "outputs": [],
   "source": [
    "# df_win.to_csv('../data/processed/df_win.csv', index=False)"
   ]
  },
  {
   "cell_type": "markdown",
   "id": "afef4e00-7932-4f3a-a496-c3b6e0cc77b9",
   "metadata": {},
   "source": [
    "# Data preparation around G4 for Cancer \n",
    "### Observed mutations Cancer dataset:\n",
    "\n",
    "df_win_cancer - observed mutations from Cancer dataset with nucleotide frequencies from df_win\n",
    "\n",
    "Add mutations from Cancer dataset:"
   ]
  },
  {
   "cell_type": "code",
   "execution_count": 29,
   "id": "935484e8-29c6-4e38-a802-84153feca618",
   "metadata": {},
   "outputs": [],
   "source": [
    "df_cancers = pd.read_csv('../data/raw/mutations.csv')"
   ]
  },
  {
   "cell_type": "code",
   "execution_count": 30,
   "id": "951d376a-10a3-4648-869b-f694afef0e7e",
   "metadata": {},
   "outputs": [],
   "source": [
    "Mut_win = []\n",
    "for window_start, window_end in zip(df_win['window_start'], df_win['window_end']):\n",
    "    row = [*range(window_start, window_end)]\n",
    "    Mut_win.append(str(df_cancers[df_cancers['Pos'].isin(row)].Mut.values))"
   ]
  },
  {
   "cell_type": "code",
   "execution_count": 31,
   "id": "f566e6fc-a507-4cf8-8e1a-a30579b1d49d",
   "metadata": {},
   "outputs": [],
   "source": [
    "Mut_win_df = pd.DataFrame(Mut_win)"
   ]
  },
  {
   "cell_type": "code",
   "execution_count": 32,
   "id": "09046d33-5408-49a1-bc76-75002900df83",
   "metadata": {},
   "outputs": [
    {
     "data": {
      "text/html": [
       "<div>\n",
       "<style scoped>\n",
       "    .dataframe tbody tr th:only-of-type {\n",
       "        vertical-align: middle;\n",
       "    }\n",
       "\n",
       "    .dataframe tbody tr th {\n",
       "        vertical-align: top;\n",
       "    }\n",
       "\n",
       "    .dataframe thead th {\n",
       "        text-align: right;\n",
       "    }\n",
       "</style>\n",
       "<table border=\"1\" class=\"dataframe\">\n",
       "  <thead>\n",
       "    <tr style=\"text-align: right;\">\n",
       "      <th></th>\n",
       "      <th>0</th>\n",
       "    </tr>\n",
       "  </thead>\n",
       "  <tbody>\n",
       "    <tr>\n",
       "      <th>0</th>\n",
       "      <td>['A[A&gt;G]C' 'A[A&gt;G]C' 'A[A&gt;G]C' 'A[A&gt;G]C' 'A[A&gt;...</td>\n",
       "    </tr>\n",
       "    <tr>\n",
       "      <th>1</th>\n",
       "      <td>['A[A&gt;G]C' 'A[A&gt;G]C' 'A[A&gt;G]C' 'A[A&gt;G]C' 'A[A&gt;...</td>\n",
       "    </tr>\n",
       "    <tr>\n",
       "      <th>2</th>\n",
       "      <td>['A[A&gt;G]C' 'A[A&gt;G]C' 'A[A&gt;G]C' 'A[A&gt;G]C' 'A[A&gt;...</td>\n",
       "    </tr>\n",
       "    <tr>\n",
       "      <th>3</th>\n",
       "      <td>['A[A&gt;G]C' 'A[A&gt;G]C' 'A[A&gt;G]C' 'A[A&gt;G]C' 'A[A&gt;...</td>\n",
       "    </tr>\n",
       "    <tr>\n",
       "      <th>4</th>\n",
       "      <td>['A[A&gt;G]C' 'A[A&gt;G]C' 'A[A&gt;G]C' 'A[A&gt;G]C' 'A[A&gt;...</td>\n",
       "    </tr>\n",
       "  </tbody>\n",
       "</table>\n",
       "</div>"
      ],
      "text/plain": [
       "                                                   0\n",
       "0  ['A[A>G]C' 'A[A>G]C' 'A[A>G]C' 'A[A>G]C' 'A[A>...\n",
       "1  ['A[A>G]C' 'A[A>G]C' 'A[A>G]C' 'A[A>G]C' 'A[A>...\n",
       "2  ['A[A>G]C' 'A[A>G]C' 'A[A>G]C' 'A[A>G]C' 'A[A>...\n",
       "3  ['A[A>G]C' 'A[A>G]C' 'A[A>G]C' 'A[A>G]C' 'A[A>...\n",
       "4  ['A[A>G]C' 'A[A>G]C' 'A[A>G]C' 'A[A>G]C' 'A[A>..."
      ]
     },
     "execution_count": 32,
     "metadata": {},
     "output_type": "execute_result"
    }
   ],
   "source": [
    "Mut_win_df.head()"
   ]
  },
  {
   "cell_type": "code",
   "execution_count": 33,
   "id": "6a91687c-34aa-4d13-b718-8dc6f696a3fc",
   "metadata": {},
   "outputs": [],
   "source": [
    "Mut_win_df[0] = Mut_win_df[0].str.findall(\"[A-T]>[A-T]\")"
   ]
  },
  {
   "cell_type": "code",
   "execution_count": 34,
   "id": "f86300eb-96ad-49e6-970b-f67ed2d9d0a0",
   "metadata": {},
   "outputs": [],
   "source": [
    "obsMutwin = pd.DataFrame.from_records(Mut_win_df[0].apply(lambda x: Counter(x))).fillna(0).sort_index(axis=1)"
   ]
  },
  {
   "cell_type": "code",
   "execution_count": 35,
   "id": "14f6dfe2-3095-4f3c-8822-29cf6cbcb907",
   "metadata": {},
   "outputs": [],
   "source": [
    "df_win_cancer = df_win.join(obsMutwin)"
   ]
  },
  {
   "cell_type": "code",
   "execution_count": 36,
   "id": "dd7b7c40-d462-43cd-a31b-df818afeae53",
   "metadata": {},
   "outputs": [],
   "source": [
    "df_win_cancer['number_of_Mut'] = df_win_cancer[['A>C','A>G','A>T',\n",
    "                                                'C>A','C>G','C>T',\n",
    "                                                'G>A','G>C','G>T',\n",
    "                                                'T>A','T>C','T>G']].sum(axis=1)"
   ]
  },
  {
   "cell_type": "markdown",
   "id": "d2ba2f37-3401-4376-beaf-edf92dcee049",
   "metadata": {},
   "source": [
    "### Finished dataset with observed mutations from cancer_df:"
   ]
  },
  {
   "cell_type": "code",
   "execution_count": 37,
   "id": "21fe33c6-e94b-4b43-878e-8823fbb60def",
   "metadata": {},
   "outputs": [],
   "source": [
    "# df_win_cancer.to_csv('../data/processed/df_win_cancer.csv', index=False)"
   ]
  },
  {
   "cell_type": "markdown",
   "id": "e72b704d-e1ba-444f-97fd-4155cc97d104",
   "metadata": {},
   "source": [
    "# Data preparation around G4 for Human Global Tree"
   ]
  },
  {
   "cell_type": "code",
   "execution_count": 38,
   "id": "5857365f-77a5-444f-ae4d-c4d77dbc5d0c",
   "metadata": {},
   "outputs": [],
   "source": [
    "df_hgt = pd.read_table('../data/raw/fulltreeCodons.csv', sep=';')"
   ]
  },
  {
   "cell_type": "code",
   "execution_count": 40,
   "id": "c7883c2f-3160-4909-aed1-05286d08bc5c",
   "metadata": {},
   "outputs": [],
   "source": [
    "with open('../data/raw/hgt_alignment.blast') as fin:\n",
    "    while True:\n",
    "        line = fin.readline()\n",
    "        if 'Strand=Plus/Plus' in line:\n",
    "            fin.readline()\n",
    "            break\n",
    "    qseq = ''\n",
    "    rods = ''\n",
    "    sseq = ''\n",
    "    query, sbjct = 'Query', 'Sbjct'\n",
    "    i = 0\n",
    "    size = 60\n",
    "    start = 14\n",
    "    while query.startswith('Query') and sbjct.startswith('Sbjct'):\n",
    "        i += 1\n",
    "        query = fin.readline().strip()\n",
    "        cur_rods = fin.readline()\n",
    "        sbjct = fin.readline().strip()\n",
    "\n",
    "        if len(query[start:start+size]) == size:\n",
    "            qseq += query[start:start+size]\n",
    "            sseq += sbjct[start:start+size]\n",
    "            rods += cur_rods[start:start+size]\n",
    "        else:\n",
    "            pos = re.search('Query\\s{2}(\\d+)\\s+[\\w-]+\\s+(\\d+)', query).groups()\n",
    "            size = int(pos[1]) - int(pos[0]) + 1\n",
    "            \n",
    "            qseq += query[start:start+size]\n",
    "            sseq += sbjct[start:start+size]\n",
    "            rods += cur_rods[start:start+size]\n",
    "            break\n",
    "            \n",
    "        fin.readline()"
   ]
  },
  {
   "cell_type": "code",
   "execution_count": 41,
   "id": "95af0cf5-e3f2-4ac7-85bd-be659f34fd79",
   "metadata": {},
   "outputs": [
    {
     "name": "stdout",
     "output_type": "stream",
     "text": [
      "sseq = 16568 qseq = 16568\n"
     ]
    }
   ],
   "source": [
    "print('sseq =', len(sseq), 'qseq =', len(qseq))"
   ]
  },
  {
   "cell_type": "code",
   "execution_count": 42,
   "id": "06f4b065-c8ea-48e2-b49e-2312f36be982",
   "metadata": {},
   "outputs": [],
   "source": [
    "sseq = 'G' + sseq\n",
    "qseq = 'G' + qseq"
   ]
  },
  {
   "cell_type": "code",
   "execution_count": 43,
   "id": "3b7d7077-ca3c-4c2c-b583-276373dd4d9b",
   "metadata": {},
   "outputs": [
    {
     "name": "stdout",
     "output_type": "stream",
     "text": [
      "sseq = 16569 qseq = 16569\n"
     ]
    }
   ],
   "source": [
    "print('sseq =', len(sseq), 'qseq =', len(qseq))"
   ]
  },
  {
   "cell_type": "code",
   "execution_count": 44,
   "id": "a8b7ee0c-f238-4d38-8e77-58d16cf2958f",
   "metadata": {},
   "outputs": [],
   "source": [
    "dict_hgt = {i: qseq[i] for i in range(len(qseq))}\n",
    "dict_ref = {i: sseq[i] for i in range(len(sseq))}"
   ]
  },
  {
   "cell_type": "code",
   "execution_count": 45,
   "id": "05e513a6-65b2-49df-8906-51fd00ce3dd7",
   "metadata": {},
   "outputs": [],
   "source": [
    "df_ali_hgt_to_ref = pd.DataFrame.from_dict(dict_ref, orient='index', columns=['nuc_ref']) \\\n",
    "    .reset_index() \\\n",
    "    .rename(columns={'index':'Pos'})"
   ]
  },
  {
   "cell_type": "code",
   "execution_count": 46,
   "id": "4113e24e-739f-4efb-a05b-58d1b6af7953",
   "metadata": {},
   "outputs": [],
   "source": [
    "df_ali_hgt_to_ref['nuc_hgt'] = df_ali_hgt_to_ref['Pos'].map(dict_hgt)"
   ]
  },
  {
   "cell_type": "code",
   "execution_count": 47,
   "id": "3ecc70dc-76b2-410f-9340-e1c726c71ab0",
   "metadata": {},
   "outputs": [],
   "source": [
    "df_ali_hgt_to_ref['Pos'] = range(1, len(df_ali_hgt_to_ref['Pos'])+1)"
   ]
  },
  {
   "cell_type": "code",
   "execution_count": 48,
   "id": "fd09aabc-b2fa-464e-8d39-2c9d2fabcbed",
   "metadata": {},
   "outputs": [],
   "source": [
    "df_ali_hgt_to_ref = df_ali_hgt_to_ref.replace({'c':'C', 'n':'N', 't':'T', 'g':'G', 'a':'A'})"
   ]
  },
  {
   "cell_type": "code",
   "execution_count": null,
   "id": "133a84d6-868b-422b-bb73-92a65f903216",
   "metadata": {},
   "outputs": [],
   "source": [
    "df_unique = df_hgt[['ref_pos', 'nuc_ref_in_ali']].sort_values(by='ref_pos').drop_duplicates(subset=['ref_pos'])"
   ]
  },
  {
   "cell_type": "code",
   "execution_count": 50,
   "id": "5b2678c0-a075-4664-bb83-ce3542c096ac",
   "metadata": {},
   "outputs": [],
   "source": [
    "df_unique = df_unique.reset_index(drop=True)"
   ]
  },
  {
   "cell_type": "code",
   "execution_count": 51,
   "id": "f1dae751-7d37-4ee4-9c1d-07ed2f003e84",
   "metadata": {},
   "outputs": [],
   "source": [
    "df_unique_sort = df_unique[~((df_unique['nuc_ref_in_ali'] == '-') | (df_unique['nuc_ref_in_ali'] == 'N'))][['ref_pos', 'nuc_ref_in_ali']]"
   ]
  },
  {
   "cell_type": "code",
   "execution_count": 52,
   "id": "884975a1-7706-4217-8bab-de6f5baf659a",
   "metadata": {},
   "outputs": [],
   "source": [
    "df_unique_sort = df_unique_sort.reset_index(drop=True)"
   ]
  },
  {
   "cell_type": "code",
   "execution_count": 54,
   "id": "592b006a-8361-4657-997c-0d91b5fa2ab2",
   "metadata": {},
   "outputs": [],
   "source": [
    "# Detele all posirions with N, -, and first position\n",
    "a = df_ali_hgt_to_ref[~((df_ali_hgt_to_ref['nuc_hgt'] == 'N') | \n",
    "                        (df_ali_hgt_to_ref['nuc_hgt'] == '-') | \n",
    "                        (df_ali_hgt_to_ref['Pos'] == 1))].reset_index()"
   ]
  },
  {
   "cell_type": "code",
   "execution_count": 55,
   "id": "be87253e-954f-4475-a221-07be82cb4a16",
   "metadata": {},
   "outputs": [],
   "source": [
    "df_pos_ref_to_hgt = pd.concat([a, df_unique_sort], axis=1).rename(columns={'ref_pos':'hgt_ref_pos'}).set_index('index')"
   ]
  },
  {
   "cell_type": "code",
   "execution_count": 56,
   "id": "972e8755-03f2-44b4-adb2-12309cd25b78",
   "metadata": {},
   "outputs": [],
   "source": [
    "df_pos_ref_to_hgt.index.name = None"
   ]
  },
  {
   "cell_type": "code",
   "execution_count": 57,
   "id": "7e9e6eac-96f0-4624-902e-e108e2c3a163",
   "metadata": {},
   "outputs": [],
   "source": [
    "df_ali_hgt_to_ref = df_ali_hgt_to_ref.join(df_pos_ref_to_hgt, how='left', rsuffix='2') \\\n",
    "    .drop(columns=['Pos2', 'nuc_ref2', 'nuc_hgt2', 'nuc_hgt']) \\\n",
    "    .astype({'hgt_ref_pos':'Int64'})"
   ]
  },
  {
   "cell_type": "code",
   "execution_count": 58,
   "id": "0b77155c-c82c-4d30-8b00-89795bc6100f",
   "metadata": {},
   "outputs": [],
   "source": [
    "# Add N in table\n",
    "df_ali_hgt_to_ref.iloc[3106, df_ali_hgt_to_ref.columns.get_loc('hgt_ref_pos')] = 3106\n",
    "df_ali_hgt_to_ref.iloc[3106, df_ali_hgt_to_ref.columns.get_loc('nuc_ref_in_ali')] = 'N'"
   ]
  },
  {
   "cell_type": "code",
   "execution_count": 59,
   "id": "71fff04b-9d3a-48e0-8421-bb94aca06688",
   "metadata": {},
   "outputs": [],
   "source": [
    "for start, end, G4_id in zip(g4conf['start'], g4conf['end'], g4conf['G4_id']):\n",
    "    df_ali_hgt_to_ref.loc[df_ali_hgt_to_ref.Pos.isin([*range(start, end+1)]),'G4'] = 1 #is position G4? 1-yes, 0-no\n",
    "    df_ali_hgt_to_ref.loc[df_ali_hgt_to_ref.Pos.isin([*range(start, end+1)]),'G4_id'] = G4_id"
   ]
  },
  {
   "cell_type": "code",
   "execution_count": 60,
   "id": "c9df48fd-023f-4672-a35c-4a9e9f9e9342",
   "metadata": {},
   "outputs": [],
   "source": [
    "for up_win, start, G4_id in zip(g4conf['up_win'], g4conf['start'], g4conf['G4_id']):\n",
    "    df_ali_hgt_to_ref.loc[df_ali_hgt_to_ref.Pos.isin([*range(up_win, start+1)]),'up_win'] = G4_id"
   ]
  },
  {
   "cell_type": "code",
   "execution_count": 61,
   "id": "f6abbe4e-ed75-4093-8fa2-c2ac748d418e",
   "metadata": {},
   "outputs": [],
   "source": [
    "for end, down_win, G4_id in zip(g4conf['end'], g4conf['down_win'], g4conf['G4_id']):\n",
    "    df_ali_hgt_to_ref.loc[df_ali_hgt_to_ref.Pos.isin([*range(end, down_win+1)]),'down_win'] = G4_id"
   ]
  },
  {
   "cell_type": "code",
   "execution_count": 62,
   "id": "0ae3a737-8c80-4d9a-a351-3ac0816c3108",
   "metadata": {},
   "outputs": [],
   "source": [
    "df_ali_hgt_to_ref[['G4', 'G4_id', 'up_win', 'down_win']] = df_ali_hgt_to_ref[['G4',  'G4_id', \n",
    "                                                                              'up_win', 'down_win']].fillna(0)"
   ]
  },
  {
   "cell_type": "code",
   "execution_count": 63,
   "id": "30cff4ed-0b9b-4c8d-ac76-79c87b33ed96",
   "metadata": {},
   "outputs": [
    {
     "data": {
      "text/html": [
       "<div>\n",
       "<style scoped>\n",
       "    .dataframe tbody tr th:only-of-type {\n",
       "        vertical-align: middle;\n",
       "    }\n",
       "\n",
       "    .dataframe tbody tr th {\n",
       "        vertical-align: top;\n",
       "    }\n",
       "\n",
       "    .dataframe thead th {\n",
       "        text-align: right;\n",
       "    }\n",
       "</style>\n",
       "<table border=\"1\" class=\"dataframe\">\n",
       "  <thead>\n",
       "    <tr style=\"text-align: right;\">\n",
       "      <th></th>\n",
       "      <th>ref_pos</th>\n",
       "      <th>Pos</th>\n",
       "      <th>G4_id</th>\n",
       "      <th>G4</th>\n",
       "      <th>up_win</th>\n",
       "      <th>down_win</th>\n",
       "    </tr>\n",
       "  </thead>\n",
       "  <tbody>\n",
       "    <tr>\n",
       "      <th>0</th>\n",
       "      <td>&lt;NA&gt;</td>\n",
       "      <td>1</td>\n",
       "      <td>0.0</td>\n",
       "      <td>0.0</td>\n",
       "      <td>0.0</td>\n",
       "      <td>0.0</td>\n",
       "    </tr>\n",
       "    <tr>\n",
       "      <th>1</th>\n",
       "      <td>1</td>\n",
       "      <td>2</td>\n",
       "      <td>0.0</td>\n",
       "      <td>0.0</td>\n",
       "      <td>0.0</td>\n",
       "      <td>0.0</td>\n",
       "    </tr>\n",
       "    <tr>\n",
       "      <th>2</th>\n",
       "      <td>2</td>\n",
       "      <td>3</td>\n",
       "      <td>0.0</td>\n",
       "      <td>0.0</td>\n",
       "      <td>0.0</td>\n",
       "      <td>0.0</td>\n",
       "    </tr>\n",
       "    <tr>\n",
       "      <th>3</th>\n",
       "      <td>3</td>\n",
       "      <td>4</td>\n",
       "      <td>0.0</td>\n",
       "      <td>0.0</td>\n",
       "      <td>0.0</td>\n",
       "      <td>0.0</td>\n",
       "    </tr>\n",
       "    <tr>\n",
       "      <th>4</th>\n",
       "      <td>4</td>\n",
       "      <td>5</td>\n",
       "      <td>0.0</td>\n",
       "      <td>0.0</td>\n",
       "      <td>0.0</td>\n",
       "      <td>0.0</td>\n",
       "    </tr>\n",
       "  </tbody>\n",
       "</table>\n",
       "</div>"
      ],
      "text/plain": [
       "   ref_pos  Pos  G4_id   G4  up_win  down_win\n",
       "0     <NA>    1    0.0  0.0     0.0       0.0\n",
       "1        1    2    0.0  0.0     0.0       0.0\n",
       "2        2    3    0.0  0.0     0.0       0.0\n",
       "3        3    4    0.0  0.0     0.0       0.0\n",
       "4        4    5    0.0  0.0     0.0       0.0"
      ]
     },
     "execution_count": 63,
     "metadata": {},
     "output_type": "execute_result"
    }
   ],
   "source": [
    "df_ali_hgt_to_ref[['hgt_ref_pos', 'Pos', 'G4_id', 'G4', 'up_win', 'down_win']] \\\n",
    "    .rename(columns={'hgt_ref_pos':'ref_pos'}).head()"
   ]
  },
  {
   "cell_type": "code",
   "execution_count": 64,
   "id": "19e55ecf-5372-4392-82a3-2889866402c2",
   "metadata": {},
   "outputs": [],
   "source": [
    "df_hgt_g4 = df_hgt \\\n",
    "    .merge(df_ali_hgt_to_ref[['hgt_ref_pos', 'Pos', 'G4_id', 'G4', 'up_win', 'down_win']] \\\n",
    "           .rename(columns={'hgt_ref_pos':'ref_pos'}), how='left') \\\n",
    "    .sort_values(by='ref_pos')"
   ]
  },
  {
   "cell_type": "code",
   "execution_count": 65,
   "id": "b38c2f91-81f6-4339-9ec5-2f58bc3d65c3",
   "metadata": {},
   "outputs": [],
   "source": [
    "df_hgt_g4['Mut'] = df_hgt_g4.ancestor.str[2] + '>' + df_hgt_g4.descendant.str[2]"
   ]
  },
  {
   "cell_type": "code",
   "execution_count": 66,
   "id": "b56cd6d7-8493-4db9-8175-8a99fbc53970",
   "metadata": {},
   "outputs": [],
   "source": [
    "# df_hgt_g4.to_csv('data/processed/df_hgt_g4.csv', index=False)"
   ]
  },
  {
   "cell_type": "markdown",
   "id": "7078b016-cbd2-4057-b122-5db717a75411",
   "metadata": {},
   "source": [
    "### Collect observed mutations from HGT"
   ]
  },
  {
   "cell_type": "code",
   "execution_count": 67,
   "id": "d1e14f14-0750-4d91-92c8-0b80449d7504",
   "metadata": {},
   "outputs": [
    {
     "name": "stderr",
     "output_type": "stream",
     "text": [
      "C:\\Users\\777\\AppData\\Local\\Temp\\ipykernel_13856\\3731285902.py:1: DtypeWarning: Columns (10,11,12,14,15) have mixed types. Specify dtype option on import or set low_memory=False.\n",
      "  df_hgt_g4 = pd.read_csv('data/processed/df_hgt_g4.csv')\n"
     ]
    }
   ],
   "source": [
    "df_hgt_g4 = pd.read_csv('data/processed/df_hgt_g4.csv')"
   ]
  },
  {
   "cell_type": "code",
   "execution_count": 68,
   "id": "e61e6ff7-e62d-4f33-b59c-2cb67a86a7bb",
   "metadata": {},
   "outputs": [],
   "source": [
    "# Extract mutations without gaps (-) and other (R, M, N, ect) bases in mut position:\n",
    "df_hgt_g4 = df_hgt_g4[\n",
    "    (df_hgt_g4.ancestor.str.lower().str.fullmatch(\"[acgt]{5}\")) &\n",
    "    (df_hgt_g4.descendant.str.lower().str.fullmatch(\"[acgt]{5}\"))]"
   ]
  },
  {
   "cell_type": "code",
   "execution_count": 69,
   "id": "cf42ee54-8933-4a17-9547-c6846dfff594",
   "metadata": {},
   "outputs": [],
   "source": [
    "obs_mut_hgt_up = []\n",
    "for up_win, Pos, Mut in zip(df_hgt_g4['up_win'], df_hgt_g4['Pos'], df_hgt_g4['Mut']):\n",
    "    row = []\n",
    "    \n",
    "    if up_win > 0:\n",
    "        row.append(up_win)\n",
    "        row.append('up')\n",
    "        row.append(Pos)\n",
    "        row.append(Mut)\n",
    "    else:\n",
    "        continue\n",
    "    \n",
    "    obs_mut_hgt_up.append(row)"
   ]
  },
  {
   "cell_type": "code",
   "execution_count": 70,
   "id": "63a09fcb-4f8c-422c-9dff-12bfeffd72c2",
   "metadata": {},
   "outputs": [],
   "source": [
    "obs_mut_hgt_down = []\n",
    "for down_win, Pos, Mut in zip(df_hgt_g4['down_win'], df_hgt_g4['Pos'], df_hgt_g4['Mut']):\n",
    "    row = []\n",
    "    \n",
    "    if down_win > 0:\n",
    "        row.append(down_win)\n",
    "        row.append('down')\n",
    "        row.append(Pos)\n",
    "        row.append(Mut)\n",
    "    else:\n",
    "        continue\n",
    "    \n",
    "    obs_mut_hgt_down.append(row)"
   ]
  },
  {
   "cell_type": "code",
   "execution_count": 71,
   "id": "8e4fe658-50cc-4fc9-b12b-f1b568b975db",
   "metadata": {},
   "outputs": [],
   "source": [
    "obs_mut_hgt = obs_mut_hgt_up + obs_mut_hgt_down"
   ]
  },
  {
   "cell_type": "code",
   "execution_count": 72,
   "id": "40aba95a-b118-4632-ba7b-fe5de90f037e",
   "metadata": {},
   "outputs": [],
   "source": [
    "df_obs_mut_hgt = pd.DataFrame(data=obs_mut_hgt, columns=['G4_id', 'side', 'Pos', 'Mut'])"
   ]
  },
  {
   "cell_type": "code",
   "execution_count": 73,
   "id": "7c2726ca-0560-45ed-8bd3-3bd17c29e9f1",
   "metadata": {},
   "outputs": [],
   "source": [
    "df_win = pd.read_csv('data/processed/df_win.csv')"
   ]
  },
  {
   "cell_type": "code",
   "execution_count": 74,
   "id": "4a788a6f-9920-4132-811e-8cbb0957962a",
   "metadata": {},
   "outputs": [],
   "source": [
    "Mut_hgt_win = []\n",
    "for window_start, window_end in zip(df_win['window_start'], df_win['window_end']):\n",
    "    row = []\n",
    "    \n",
    "    mut = df_obs_mut_hgt[(df_obs_mut_hgt['Pos'] >= window_start) & (df_obs_mut_hgt['Pos'] <= window_end)].Mut.tolist()\n",
    "    \n",
    "    row.append(mut)\n",
    "    \n",
    "    Mut_hgt_win.append(row)"
   ]
  },
  {
   "cell_type": "code",
   "execution_count": 75,
   "id": "85104fc9-f0fb-473a-bffb-b7afa2cbd888",
   "metadata": {},
   "outputs": [],
   "source": [
    "df_Mut_hgt_win = pd.DataFrame(data=Mut_hgt_win)"
   ]
  },
  {
   "cell_type": "code",
   "execution_count": 77,
   "id": "84f9c9e7-fde8-4607-8e07-458dcf2d94f3",
   "metadata": {},
   "outputs": [],
   "source": [
    "obsMutG4_hgt = pd.DataFrame.from_records(df_Mut_hgt_win[0].apply(lambda x: Counter(x))).fillna(0).sort_index(axis=1)"
   ]
  },
  {
   "cell_type": "code",
   "execution_count": 78,
   "id": "f52fd3a1-ac53-46ea-9248-17057f847d4b",
   "metadata": {},
   "outputs": [],
   "source": [
    "df_win_hgt = df_win.join(obsMutG4_hgt)"
   ]
  },
  {
   "cell_type": "code",
   "execution_count": 79,
   "id": "3d5fcbb3-b07e-43a3-988b-2ef6b6db3dc4",
   "metadata": {},
   "outputs": [],
   "source": [
    "df_win_hgt['number_of_Mut'] = df_win_hgt[['A>C','A>G','A>T','C>A','C>G','C>T','G>A','G>C','G>T','T>A','T>C','T>G']].sum(axis=1)"
   ]
  },
  {
   "cell_type": "code",
   "execution_count": 80,
   "id": "2dbcc008-a0f0-47b4-b3f4-a482361d577e",
   "metadata": {},
   "outputs": [],
   "source": [
    "# df_win_hgt.to_csv('data/processed/df_win_hgt.csv', index=False)"
   ]
  },
  {
   "cell_type": "markdown",
   "id": "857d48de-74a0-4f74-9ae7-ee2b8f52fe45",
   "metadata": {},
   "source": [
    "# Data preparation within G4"
   ]
  },
  {
   "cell_type": "code",
   "execution_count": 81,
   "id": "a3aefd62-b76d-4267-ade4-d5703360467b",
   "metadata": {},
   "outputs": [],
   "source": [
    "g4conf = pd.read_csv('data/processed/g4conf.csv')"
   ]
  },
  {
   "cell_type": "code",
   "execution_count": 82,
   "id": "a470c577-d88d-4969-9f19-4143ba4aeaec",
   "metadata": {},
   "outputs": [],
   "source": [
    "data_within = []\n",
    "\n",
    "for start, end, G4_id, sequence in zip(g4conf['start'], g4conf['end'], g4conf['G4_id'], g4conf['sequence']):\n",
    "    \n",
    "    number_of_win = 0\n",
    "    \n",
    "    for i, j in zip(range(start, end), range(len(sequence))):\n",
    "        row = []\n",
    "        \n",
    "        if i+WINDOW_SIZE < end:\n",
    "            window = [*range(i, i + WINDOW_SIZE)]       \n",
    "        else:\n",
    "            break\n",
    "            \n",
    "        window_seq = ''\n",
    "        window_seq += sequence[j: j + WINDOW_SIZE]\n",
    "\n",
    "        \n",
    "        number_of_win += 1\n",
    "\n",
    "        row.append(G4_id)\n",
    "        row.append('within')\n",
    "        row.append(number_of_win)\n",
    "        row.append(window[0])\n",
    "        row.append(window[-1])\n",
    "        row.append(window_seq)\n",
    "        \n",
    "        data_within.append(row)\n",
    "# print(data_down)"
   ]
  },
  {
   "cell_type": "code",
   "execution_count": 83,
   "id": "231dc2e7-3b3a-4af8-8391-5125cb8bdb78",
   "metadata": {},
   "outputs": [],
   "source": [
    "df_win_within = pd.DataFrame(data=data_within, \n",
    "                             columns = ['G4_id', 'side', 'number_of_win', 'window_start', 'window_end', 'sequence'])"
   ]
  },
  {
   "cell_type": "code",
   "execution_count": 84,
   "id": "029c1751-4fb5-41f8-98a3-86881c2e01c7",
   "metadata": {},
   "outputs": [],
   "source": [
    "nuc_count_win_within = df_win_within['sequence'].apply(lambda x: Counter(x))"
   ]
  },
  {
   "cell_type": "code",
   "execution_count": 85,
   "id": "856e6540-7210-4d8c-9314-c530af7f297f",
   "metadata": {},
   "outputs": [],
   "source": [
    "nuc_count_df_win_within = pd.DataFrame.from_records(nuc_count_win_within).sort_index(axis=1)"
   ]
  },
  {
   "cell_type": "code",
   "execution_count": 86,
   "id": "8f628500-a3a8-40c3-a2e8-25aeb81493de",
   "metadata": {},
   "outputs": [],
   "source": [
    "df_win_within = df_win_within.join(nuc_count_df_win_within).fillna(0)"
   ]
  },
  {
   "cell_type": "code",
   "execution_count": 87,
   "id": "d07639e6-e5e9-448b-bf8a-7af07026b60d",
   "metadata": {},
   "outputs": [],
   "source": [
    "# df_win_within.to_csv('data/processed/df_win_within.csv', index=False)"
   ]
  },
  {
   "cell_type": "markdown",
   "id": "13ad1802-5217-4408-839d-c858576e0737",
   "metadata": {},
   "source": [
    "# Data preparation Cancer within G4"
   ]
  },
  {
   "cell_type": "code",
   "execution_count": 88,
   "id": "63e4f3ca-4b41-46fa-b86d-009e1122a1ba",
   "metadata": {},
   "outputs": [],
   "source": [
    "df_cancers = pd.read_csv('data/raw/mutations.csv')\n",
    "df_win_within = pd.read_csv('data/processed/df_win_within.csv')"
   ]
  },
  {
   "cell_type": "code",
   "execution_count": 89,
   "id": "d1677ac1-d462-43b4-810b-d0fa746f473f",
   "metadata": {},
   "outputs": [],
   "source": [
    "Mut_win_within = []\n",
    "for window_start, window_end in zip(df_win_within['window_start'], df_win_within['window_end']):\n",
    "    row = [*range(window_start, window_end)]\n",
    "    Mut_win_within.append(str(df_cancers[df_cancers['Pos'].isin(row)].Mut.values))"
   ]
  },
  {
   "cell_type": "code",
   "execution_count": 90,
   "id": "f272ebe7-4ce9-4070-9d6e-29f6bb4ea390",
   "metadata": {},
   "outputs": [],
   "source": [
    "Mut_win_df_within = pd.DataFrame(Mut_win_within)"
   ]
  },
  {
   "cell_type": "code",
   "execution_count": 91,
   "id": "d3111899-fb7e-4132-b7ac-29d8ce680029",
   "metadata": {},
   "outputs": [],
   "source": [
    "Mut_win_df_within[0] = Mut_win_df_within[0].str.findall(\"[A-T]>[A-T]\")"
   ]
  },
  {
   "cell_type": "code",
   "execution_count": 92,
   "id": "e0ddb35b-5df1-42d4-a63e-a0249161b9b0",
   "metadata": {},
   "outputs": [],
   "source": [
    "obsMutwin_within = pd.DataFrame.from_records(Mut_win_df_within[0].apply(lambda x: Counter(x))).fillna(0).sort_index(axis=1)"
   ]
  },
  {
   "cell_type": "code",
   "execution_count": 93,
   "id": "d1de0407-1297-42e9-a6d5-026aedb9ff37",
   "metadata": {},
   "outputs": [],
   "source": [
    "df_win_cancer_within = df_win_within.join(obsMutwin_within)"
   ]
  },
  {
   "cell_type": "code",
   "execution_count": 94,
   "id": "c7e030f8-161c-4a08-8464-4c573aa31d84",
   "metadata": {},
   "outputs": [],
   "source": [
    "df_win_cancer_within['number_of_Mut'] = df_win_cancer_within[['A>C','A>G','A>T',\n",
    "                                                              'C>A','C>G','C>T',\n",
    "                                                              'G>A','G>C','G>T',\n",
    "                                                              'T>A','T>C','T>G']].sum(axis=1)"
   ]
  },
  {
   "cell_type": "code",
   "execution_count": 95,
   "id": "afd9f9b3-e899-41d3-b0f2-5def69ae2211",
   "metadata": {},
   "outputs": [
    {
     "data": {
      "text/html": [
       "<div>\n",
       "<style scoped>\n",
       "    .dataframe tbody tr th:only-of-type {\n",
       "        vertical-align: middle;\n",
       "    }\n",
       "\n",
       "    .dataframe tbody tr th {\n",
       "        vertical-align: top;\n",
       "    }\n",
       "\n",
       "    .dataframe thead th {\n",
       "        text-align: right;\n",
       "    }\n",
       "</style>\n",
       "<table border=\"1\" class=\"dataframe\">\n",
       "  <thead>\n",
       "    <tr style=\"text-align: right;\">\n",
       "      <th></th>\n",
       "      <th>G4_id</th>\n",
       "      <th>side</th>\n",
       "      <th>number_of_win</th>\n",
       "      <th>window_start</th>\n",
       "      <th>window_end</th>\n",
       "      <th>sequence</th>\n",
       "      <th>A</th>\n",
       "      <th>C</th>\n",
       "      <th>G</th>\n",
       "      <th>T</th>\n",
       "      <th>...</th>\n",
       "      <th>C&gt;A</th>\n",
       "      <th>C&gt;G</th>\n",
       "      <th>C&gt;T</th>\n",
       "      <th>G&gt;A</th>\n",
       "      <th>G&gt;C</th>\n",
       "      <th>G&gt;T</th>\n",
       "      <th>T&gt;A</th>\n",
       "      <th>T&gt;C</th>\n",
       "      <th>T&gt;G</th>\n",
       "      <th>number_of_Mut</th>\n",
       "    </tr>\n",
       "  </thead>\n",
       "  <tbody>\n",
       "    <tr>\n",
       "      <th>0</th>\n",
       "      <td>1</td>\n",
       "      <td>within</td>\n",
       "      <td>1</td>\n",
       "      <td>285</td>\n",
       "      <td>294</td>\n",
       "      <td>CAAAAAATTT</td>\n",
       "      <td>6.0</td>\n",
       "      <td>1.0</td>\n",
       "      <td>0.0</td>\n",
       "      <td>3.0</td>\n",
       "      <td>...</td>\n",
       "      <td>0.0</td>\n",
       "      <td>0.0</td>\n",
       "      <td>0.0</td>\n",
       "      <td>0.0</td>\n",
       "      <td>0.0</td>\n",
       "      <td>0.0</td>\n",
       "      <td>0.0</td>\n",
       "      <td>2.0</td>\n",
       "      <td>0.0</td>\n",
       "      <td>2.0</td>\n",
       "    </tr>\n",
       "    <tr>\n",
       "      <th>1</th>\n",
       "      <td>1</td>\n",
       "      <td>within</td>\n",
       "      <td>2</td>\n",
       "      <td>286</td>\n",
       "      <td>295</td>\n",
       "      <td>AAAAAATTTC</td>\n",
       "      <td>6.0</td>\n",
       "      <td>1.0</td>\n",
       "      <td>0.0</td>\n",
       "      <td>3.0</td>\n",
       "      <td>...</td>\n",
       "      <td>0.0</td>\n",
       "      <td>0.0</td>\n",
       "      <td>0.0</td>\n",
       "      <td>0.0</td>\n",
       "      <td>0.0</td>\n",
       "      <td>0.0</td>\n",
       "      <td>0.0</td>\n",
       "      <td>4.0</td>\n",
       "      <td>0.0</td>\n",
       "      <td>4.0</td>\n",
       "    </tr>\n",
       "    <tr>\n",
       "      <th>2</th>\n",
       "      <td>1</td>\n",
       "      <td>within</td>\n",
       "      <td>3</td>\n",
       "      <td>287</td>\n",
       "      <td>296</td>\n",
       "      <td>AAAAATTTCC</td>\n",
       "      <td>5.0</td>\n",
       "      <td>2.0</td>\n",
       "      <td>0.0</td>\n",
       "      <td>3.0</td>\n",
       "      <td>...</td>\n",
       "      <td>0.0</td>\n",
       "      <td>0.0</td>\n",
       "      <td>1.0</td>\n",
       "      <td>0.0</td>\n",
       "      <td>0.0</td>\n",
       "      <td>0.0</td>\n",
       "      <td>0.0</td>\n",
       "      <td>4.0</td>\n",
       "      <td>0.0</td>\n",
       "      <td>5.0</td>\n",
       "    </tr>\n",
       "    <tr>\n",
       "      <th>3</th>\n",
       "      <td>1</td>\n",
       "      <td>within</td>\n",
       "      <td>4</td>\n",
       "      <td>288</td>\n",
       "      <td>297</td>\n",
       "      <td>AAAATTTCCA</td>\n",
       "      <td>5.0</td>\n",
       "      <td>2.0</td>\n",
       "      <td>0.0</td>\n",
       "      <td>3.0</td>\n",
       "      <td>...</td>\n",
       "      <td>0.0</td>\n",
       "      <td>0.0</td>\n",
       "      <td>4.0</td>\n",
       "      <td>0.0</td>\n",
       "      <td>0.0</td>\n",
       "      <td>0.0</td>\n",
       "      <td>0.0</td>\n",
       "      <td>4.0</td>\n",
       "      <td>0.0</td>\n",
       "      <td>8.0</td>\n",
       "    </tr>\n",
       "    <tr>\n",
       "      <th>4</th>\n",
       "      <td>1</td>\n",
       "      <td>within</td>\n",
       "      <td>5</td>\n",
       "      <td>289</td>\n",
       "      <td>298</td>\n",
       "      <td>AAATTTCCAC</td>\n",
       "      <td>4.0</td>\n",
       "      <td>3.0</td>\n",
       "      <td>0.0</td>\n",
       "      <td>3.0</td>\n",
       "      <td>...</td>\n",
       "      <td>0.0</td>\n",
       "      <td>0.0</td>\n",
       "      <td>4.0</td>\n",
       "      <td>0.0</td>\n",
       "      <td>0.0</td>\n",
       "      <td>0.0</td>\n",
       "      <td>0.0</td>\n",
       "      <td>4.0</td>\n",
       "      <td>0.0</td>\n",
       "      <td>10.0</td>\n",
       "    </tr>\n",
       "  </tbody>\n",
       "</table>\n",
       "<p>5 rows × 23 columns</p>\n",
       "</div>"
      ],
      "text/plain": [
       "   G4_id    side  number_of_win  window_start  window_end    sequence    A  \\\n",
       "0      1  within              1           285         294  CAAAAAATTT  6.0   \n",
       "1      1  within              2           286         295  AAAAAATTTC  6.0   \n",
       "2      1  within              3           287         296  AAAAATTTCC  5.0   \n",
       "3      1  within              4           288         297  AAAATTTCCA  5.0   \n",
       "4      1  within              5           289         298  AAATTTCCAC  4.0   \n",
       "\n",
       "     C    G    T  ...  C>A  C>G  C>T  G>A  G>C  G>T  T>A  T>C  T>G  \\\n",
       "0  1.0  0.0  3.0  ...  0.0  0.0  0.0  0.0  0.0  0.0  0.0  2.0  0.0   \n",
       "1  1.0  0.0  3.0  ...  0.0  0.0  0.0  0.0  0.0  0.0  0.0  4.0  0.0   \n",
       "2  2.0  0.0  3.0  ...  0.0  0.0  1.0  0.0  0.0  0.0  0.0  4.0  0.0   \n",
       "3  2.0  0.0  3.0  ...  0.0  0.0  4.0  0.0  0.0  0.0  0.0  4.0  0.0   \n",
       "4  3.0  0.0  3.0  ...  0.0  0.0  4.0  0.0  0.0  0.0  0.0  4.0  0.0   \n",
       "\n",
       "   number_of_Mut  \n",
       "0            2.0  \n",
       "1            4.0  \n",
       "2            5.0  \n",
       "3            8.0  \n",
       "4           10.0  \n",
       "\n",
       "[5 rows x 23 columns]"
      ]
     },
     "execution_count": 95,
     "metadata": {},
     "output_type": "execute_result"
    }
   ],
   "source": [
    "df_win_cancer_within.head()"
   ]
  },
  {
   "cell_type": "code",
   "execution_count": 96,
   "id": "57442f52-e2d3-411f-b052-a27e2042153b",
   "metadata": {},
   "outputs": [],
   "source": [
    "# df_win_cancer_within.to_csv('data/processed/df_win_cancer_within.csv', index=False)"
   ]
  },
  {
   "cell_type": "markdown",
   "id": "9c8e7ebe-2140-43f2-98fb-edd20da2a679",
   "metadata": {},
   "source": [
    "# Data preparation HGT within G4"
   ]
  },
  {
   "cell_type": "code",
   "execution_count": 97,
   "id": "566b3bca-cc92-4185-a00c-9ea2cf475cf3",
   "metadata": {},
   "outputs": [
    {
     "name": "stderr",
     "output_type": "stream",
     "text": [
      "C:\\Users\\777\\AppData\\Local\\Temp\\ipykernel_13856\\486489025.py:1: DtypeWarning: Columns (10,11,12,14,15) have mixed types. Specify dtype option on import or set low_memory=False.\n",
      "  df_hgt_g4 = pd.read_csv('data/processed/df_hgt_g4.csv')\n"
     ]
    }
   ],
   "source": [
    "df_hgt_g4 = pd.read_csv('data/processed/df_hgt_g4.csv')\n",
    "df_win_within = pd.read_csv('data/processed/df_win_within.csv')"
   ]
  },
  {
   "cell_type": "code",
   "execution_count": 98,
   "id": "a121394c-bcfa-4d38-81b1-91499ca4e6d8",
   "metadata": {},
   "outputs": [],
   "source": [
    "# Extract mutations without gaps (-) and other (R, M, N, ect) bases in mut position:\n",
    "df_hgt_g4 = df_hgt_g4[\n",
    "    (df_hgt_g4.ancestor.str.lower().str.fullmatch(\"[acgt]{5}\")) &\n",
    "    (df_hgt_g4.descendant.str.lower().str.fullmatch(\"[acgt]{5}\"))]"
   ]
  },
  {
   "cell_type": "code",
   "execution_count": 99,
   "id": "8993af2e-c946-4091-b0d4-e9f2e9069efa",
   "metadata": {},
   "outputs": [],
   "source": [
    "obs_mut_hgt_within = []\n",
    "for G4, G4_id, Pos, Mut in zip(df_hgt_g4['G4'], df_hgt_g4['G4_id'], df_hgt_g4['Pos'], df_hgt_g4['Mut']):\n",
    "    row = []\n",
    "    \n",
    "    if G4 > 0:\n",
    "        row.append(G4_id)\n",
    "        row.append('within')\n",
    "        row.append(Pos)\n",
    "        row.append(Mut)\n",
    "    else:\n",
    "        continue\n",
    "    \n",
    "    obs_mut_hgt_within.append(row)"
   ]
  },
  {
   "cell_type": "code",
   "execution_count": 100,
   "id": "ebad643b-3a2d-4e35-9cf8-490e40c47045",
   "metadata": {},
   "outputs": [],
   "source": [
    "df_obs_mut_hgt_within = pd.DataFrame(data=obs_mut_hgt_within, columns=['G4_id', 'side', 'Pos', 'Mut'])"
   ]
  },
  {
   "cell_type": "code",
   "execution_count": 101,
   "id": "41c4894b-8a56-4a65-b724-11dd68033c3e",
   "metadata": {},
   "outputs": [],
   "source": [
    "Mut_hgt_win_within = []\n",
    "for window_start, window_end in zip(df_win_within['window_start'], df_win_within['window_end']):\n",
    "    row = []\n",
    "    \n",
    "    mut = df_obs_mut_hgt_within[(df_obs_mut_hgt_within['Pos'] >= window_start) & \n",
    "        (df_obs_mut_hgt_within['Pos'] <= window_end)]['Mut'].tolist()\n",
    "\n",
    "    row.append(mut)\n",
    "    \n",
    "    Mut_hgt_win_within.append(row)"
   ]
  },
  {
   "cell_type": "code",
   "execution_count": 102,
   "id": "fe2c38b7-a5c0-4e61-b46d-6c0fc400fae6",
   "metadata": {},
   "outputs": [],
   "source": [
    "df_Mut_hgt_win_within = pd.DataFrame(data=Mut_hgt_win_within)"
   ]
  },
  {
   "cell_type": "code",
   "execution_count": 103,
   "id": "a5d3123f-c7c2-4486-9352-a69db93e328a",
   "metadata": {},
   "outputs": [],
   "source": [
    "obsMutG4_hgt_within = pd.DataFrame.from_records(df_Mut_hgt_win_within[0].apply(lambda x: Counter(x))).fillna(0).sort_index(axis=1)"
   ]
  },
  {
   "cell_type": "code",
   "execution_count": 104,
   "id": "c3297f99-62d0-46c3-b726-1857efd4fc08",
   "metadata": {},
   "outputs": [],
   "source": [
    "df_win_hgt_within = df_win_within.join(obsMutG4_hgt_within)"
   ]
  },
  {
   "cell_type": "code",
   "execution_count": 105,
   "id": "a9290ce1-2c53-46c2-a645-3cd32ae3ace9",
   "metadata": {},
   "outputs": [],
   "source": [
    "df_win_hgt_within['number_of_Mut'] = df_win_hgt_within[['A>C','A>G','A>T',\n",
    "                                                        'C>A','C>G','C>T',\n",
    "                                                        'G>A','G>C','G>T',\n",
    "                                                        'T>A','T>C','T>G']].sum(axis=1)"
   ]
  },
  {
   "cell_type": "code",
   "execution_count": 106,
   "id": "919ed189-6d30-4cc3-afd9-5459016a6f0d",
   "metadata": {},
   "outputs": [
    {
     "data": {
      "text/html": [
       "<div>\n",
       "<style scoped>\n",
       "    .dataframe tbody tr th:only-of-type {\n",
       "        vertical-align: middle;\n",
       "    }\n",
       "\n",
       "    .dataframe tbody tr th {\n",
       "        vertical-align: top;\n",
       "    }\n",
       "\n",
       "    .dataframe thead th {\n",
       "        text-align: right;\n",
       "    }\n",
       "</style>\n",
       "<table border=\"1\" class=\"dataframe\">\n",
       "  <thead>\n",
       "    <tr style=\"text-align: right;\">\n",
       "      <th></th>\n",
       "      <th>G4_id</th>\n",
       "      <th>side</th>\n",
       "      <th>number_of_win</th>\n",
       "      <th>window_start</th>\n",
       "      <th>window_end</th>\n",
       "      <th>sequence</th>\n",
       "      <th>A</th>\n",
       "      <th>C</th>\n",
       "      <th>G</th>\n",
       "      <th>T</th>\n",
       "      <th>...</th>\n",
       "      <th>C&gt;A</th>\n",
       "      <th>C&gt;G</th>\n",
       "      <th>C&gt;T</th>\n",
       "      <th>G&gt;A</th>\n",
       "      <th>G&gt;C</th>\n",
       "      <th>G&gt;T</th>\n",
       "      <th>T&gt;A</th>\n",
       "      <th>T&gt;C</th>\n",
       "      <th>T&gt;G</th>\n",
       "      <th>number_of_Mut</th>\n",
       "    </tr>\n",
       "  </thead>\n",
       "  <tbody>\n",
       "    <tr>\n",
       "      <th>0</th>\n",
       "      <td>1</td>\n",
       "      <td>within</td>\n",
       "      <td>1</td>\n",
       "      <td>285</td>\n",
       "      <td>294</td>\n",
       "      <td>CAAAAAATTT</td>\n",
       "      <td>6.0</td>\n",
       "      <td>1.0</td>\n",
       "      <td>0.0</td>\n",
       "      <td>3.0</td>\n",
       "      <td>...</td>\n",
       "      <td>0.0</td>\n",
       "      <td>0.0</td>\n",
       "      <td>76.0</td>\n",
       "      <td>5.0</td>\n",
       "      <td>0.0</td>\n",
       "      <td>0.0</td>\n",
       "      <td>8.0</td>\n",
       "      <td>88.0</td>\n",
       "      <td>0.0</td>\n",
       "      <td>189.0</td>\n",
       "    </tr>\n",
       "    <tr>\n",
       "      <th>1</th>\n",
       "      <td>1</td>\n",
       "      <td>within</td>\n",
       "      <td>2</td>\n",
       "      <td>286</td>\n",
       "      <td>295</td>\n",
       "      <td>AAAAAATTTC</td>\n",
       "      <td>6.0</td>\n",
       "      <td>1.0</td>\n",
       "      <td>0.0</td>\n",
       "      <td>3.0</td>\n",
       "      <td>...</td>\n",
       "      <td>26.0</td>\n",
       "      <td>0.0</td>\n",
       "      <td>128.0</td>\n",
       "      <td>5.0</td>\n",
       "      <td>0.0</td>\n",
       "      <td>0.0</td>\n",
       "      <td>9.0</td>\n",
       "      <td>140.0</td>\n",
       "      <td>0.0</td>\n",
       "      <td>346.0</td>\n",
       "    </tr>\n",
       "    <tr>\n",
       "      <th>2</th>\n",
       "      <td>1</td>\n",
       "      <td>within</td>\n",
       "      <td>3</td>\n",
       "      <td>287</td>\n",
       "      <td>296</td>\n",
       "      <td>AAAAATTTCC</td>\n",
       "      <td>5.0</td>\n",
       "      <td>2.0</td>\n",
       "      <td>0.0</td>\n",
       "      <td>3.0</td>\n",
       "      <td>...</td>\n",
       "      <td>28.0</td>\n",
       "      <td>0.0</td>\n",
       "      <td>152.0</td>\n",
       "      <td>5.0</td>\n",
       "      <td>0.0</td>\n",
       "      <td>0.0</td>\n",
       "      <td>9.0</td>\n",
       "      <td>163.0</td>\n",
       "      <td>0.0</td>\n",
       "      <td>397.0</td>\n",
       "    </tr>\n",
       "    <tr>\n",
       "      <th>3</th>\n",
       "      <td>1</td>\n",
       "      <td>within</td>\n",
       "      <td>4</td>\n",
       "      <td>288</td>\n",
       "      <td>297</td>\n",
       "      <td>AAAATTTCCA</td>\n",
       "      <td>5.0</td>\n",
       "      <td>2.0</td>\n",
       "      <td>0.0</td>\n",
       "      <td>3.0</td>\n",
       "      <td>...</td>\n",
       "      <td>34.0</td>\n",
       "      <td>0.0</td>\n",
       "      <td>152.0</td>\n",
       "      <td>72.0</td>\n",
       "      <td>0.0</td>\n",
       "      <td>0.0</td>\n",
       "      <td>9.0</td>\n",
       "      <td>163.0</td>\n",
       "      <td>0.0</td>\n",
       "      <td>548.0</td>\n",
       "    </tr>\n",
       "    <tr>\n",
       "      <th>4</th>\n",
       "      <td>1</td>\n",
       "      <td>within</td>\n",
       "      <td>5</td>\n",
       "      <td>289</td>\n",
       "      <td>298</td>\n",
       "      <td>AAATTTCCAC</td>\n",
       "      <td>4.0</td>\n",
       "      <td>3.0</td>\n",
       "      <td>0.0</td>\n",
       "      <td>3.0</td>\n",
       "      <td>...</td>\n",
       "      <td>35.0</td>\n",
       "      <td>0.0</td>\n",
       "      <td>152.0</td>\n",
       "      <td>67.0</td>\n",
       "      <td>0.0</td>\n",
       "      <td>0.0</td>\n",
       "      <td>9.0</td>\n",
       "      <td>163.0</td>\n",
       "      <td>0.0</td>\n",
       "      <td>539.0</td>\n",
       "    </tr>\n",
       "  </tbody>\n",
       "</table>\n",
       "<p>5 rows × 23 columns</p>\n",
       "</div>"
      ],
      "text/plain": [
       "   G4_id    side  number_of_win  window_start  window_end    sequence    A  \\\n",
       "0      1  within              1           285         294  CAAAAAATTT  6.0   \n",
       "1      1  within              2           286         295  AAAAAATTTC  6.0   \n",
       "2      1  within              3           287         296  AAAAATTTCC  5.0   \n",
       "3      1  within              4           288         297  AAAATTTCCA  5.0   \n",
       "4      1  within              5           289         298  AAATTTCCAC  4.0   \n",
       "\n",
       "     C    G    T  ...   C>A  C>G    C>T   G>A  G>C  G>T  T>A    T>C  T>G  \\\n",
       "0  1.0  0.0  3.0  ...   0.0  0.0   76.0   5.0  0.0  0.0  8.0   88.0  0.0   \n",
       "1  1.0  0.0  3.0  ...  26.0  0.0  128.0   5.0  0.0  0.0  9.0  140.0  0.0   \n",
       "2  2.0  0.0  3.0  ...  28.0  0.0  152.0   5.0  0.0  0.0  9.0  163.0  0.0   \n",
       "3  2.0  0.0  3.0  ...  34.0  0.0  152.0  72.0  0.0  0.0  9.0  163.0  0.0   \n",
       "4  3.0  0.0  3.0  ...  35.0  0.0  152.0  67.0  0.0  0.0  9.0  163.0  0.0   \n",
       "\n",
       "   number_of_Mut  \n",
       "0          189.0  \n",
       "1          346.0  \n",
       "2          397.0  \n",
       "3          548.0  \n",
       "4          539.0  \n",
       "\n",
       "[5 rows x 23 columns]"
      ]
     },
     "execution_count": 106,
     "metadata": {},
     "output_type": "execute_result"
    }
   ],
   "source": [
    "df_win_hgt_within.head()"
   ]
  },
  {
   "cell_type": "code",
   "execution_count": 107,
   "id": "09e7eedb-e37d-42d5-8d43-593e49dce9ef",
   "metadata": {},
   "outputs": [],
   "source": [
    "# df_win_hgt_within.to_csv('data/processed/df_win_hgt_within.csv', index=False)"
   ]
  },
  {
   "cell_type": "code",
   "execution_count": null,
   "id": "64bf7068-990f-4cbb-a59e-04bf1414797f",
   "metadata": {},
   "outputs": [],
   "source": []
  }
 ],
 "metadata": {
  "kernelspec": {
   "display_name": "Python 3 (ipykernel)",
   "language": "python",
   "name": "python3"
  },
  "language_info": {
   "codemirror_mode": {
    "name": "ipython",
    "version": 3
   },
   "file_extension": ".py",
   "mimetype": "text/x-python",
   "name": "python",
   "nbconvert_exporter": "python",
   "pygments_lexer": "ipython3",
   "version": "3.9.18"
  },
  "widgets": {
   "application/vnd.jupyter.widget-state+json": {
    "state": {},
    "version_major": 2,
    "version_minor": 0
   }
  }
 },
 "nbformat": 4,
 "nbformat_minor": 5
}
